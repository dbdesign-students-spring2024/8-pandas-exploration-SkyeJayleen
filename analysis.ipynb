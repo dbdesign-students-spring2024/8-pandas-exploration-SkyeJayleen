{
 "cells": [
  {
   "cell_type": "markdown",
   "metadata": {},
   "source": [
    "# pandas exploration\n",
    "In this assignment you will select a data set and do some munging and analysis of it using `pandas`, Jupyter Notebooks, and associated Python-centric data science tools."
   ]
  },
  {
   "cell_type": "markdown",
   "metadata": {},
   "source": [
    "## Set up environment"
   ]
  },
  {
   "cell_type": "markdown",
   "metadata": {},
   "source": [
    "The following lines ensure that `numpy` and `pandas` are installed in the notebook environment.  Depending on your system, this may not be necessary and may be removed."
   ]
  },
  {
   "cell_type": "code",
   "execution_count": 1,
   "metadata": {},
   "outputs": [
    {
     "name": "stdout",
     "output_type": "stream",
     "text": [
      "Requirement already satisfied: numpy in /Users/jiminlee/opt/anaconda3/lib/python3.9/site-packages (1.26.4)\n",
      "Requirement already satisfied: pandas in /Users/jiminlee/opt/anaconda3/lib/python3.9/site-packages (2.2.0)\n",
      "Requirement already satisfied: tzdata>=2022.7 in /Users/jiminlee/opt/anaconda3/lib/python3.9/site-packages (from pandas) (2024.1)\n",
      "Requirement already satisfied: python-dateutil>=2.8.2 in /Users/jiminlee/opt/anaconda3/lib/python3.9/site-packages (from pandas) (2.8.2)\n",
      "Requirement already satisfied: pytz>=2020.1 in /Users/jiminlee/opt/anaconda3/lib/python3.9/site-packages (from pandas) (2022.1)\n",
      "Requirement already satisfied: numpy<2,>=1.22.4 in /Users/jiminlee/opt/anaconda3/lib/python3.9/site-packages (from pandas) (1.26.4)\n",
      "Requirement already satisfied: six>=1.5 in /Users/jiminlee/opt/anaconda3/lib/python3.9/site-packages (from python-dateutil>=2.8.2->pandas) (1.16.0)\n"
     ]
    }
   ],
   "source": [
    "!pip install numpy\n",
    "!pip install pandas"
   ]
  },
  {
   "cell_type": "markdown",
   "metadata": {},
   "source": [
    "Import the core data science libraries:"
   ]
  },
  {
   "cell_type": "code",
   "execution_count": 2,
   "metadata": {},
   "outputs": [
    {
     "name": "stderr",
     "output_type": "stream",
     "text": [
      "/Users/jiminlee/opt/anaconda3/lib/python3.9/site-packages/pandas/core/computation/expressions.py:21: UserWarning: Pandas requires version '2.8.4' or newer of 'numexpr' (version '2.8.3' currently installed).\n",
      "  from pandas.core.computation.check import NUMEXPR_INSTALLED\n",
      "/Users/jiminlee/opt/anaconda3/lib/python3.9/site-packages/pandas/core/arrays/masked.py:60: UserWarning: Pandas requires version '1.3.6' or newer of 'bottleneck' (version '1.3.5' currently installed).\n",
      "  from pandas.core import (\n",
      "/var/folders/c0/0c_b64hn65zc4mh0lkr4wn_00000gn/T/ipykernel_3565/35659034.py:4: DeprecationWarning: \n",
      "Pyarrow will become a required dependency of pandas in the next major release of pandas (pandas 3.0),\n",
      "(to allow more performant data types, such as the Arrow string type, and better interoperability with other libraries)\n",
      "but was not found to be installed on your system.\n",
      "If this would cause problems for you,\n",
      "please provide us feedback at https://github.com/pandas-dev/pandas/issues/54466\n",
      "        \n",
      "  import pandas as pd\n"
     ]
    }
   ],
   "source": [
    "%matplotlib inline\n",
    "import matplotlib.pyplot as plt\n",
    "import numpy as np\n",
    "import pandas as pd"
   ]
  },
  {
   "cell_type": "markdown",
   "metadata": {},
   "source": [
    "## Import the raw data\n",
    "In this section, you will import the raw data into a `pandas` DataFrame."
   ]
  },
  {
   "cell_type": "code",
   "execution_count": 3,
   "metadata": {},
   "outputs": [],
   "source": [
    "df = pd.read_csv(\"data/NYPD_Shooting_Incident_Data__Year_To_Date__20240428.csv\")"
   ]
  },
  {
   "cell_type": "markdown",
   "metadata": {},
   "source": [
    "## Data inspection\n",
    "In this section, you will show enough of your data for a viewer to get a general sense of how the data is structured and any unique features of it.  Complete each of the indicated tasks in a Code cell, making sure to include a Markdown cell above each Code cell that explains what is being shown by the code.  \n",
    "- Show 5 rows, selected at random, from the data set.\n",
    "- Show each of the column names and their data types.\n",
    "- Show any unique features of your chosen data set.\n",
    "\n",
    "Feel free to add as many additional cells as you need to help explain the raw data."
   ]
  },
  {
   "cell_type": "markdown",
   "metadata": {},
   "source": [
    "### 1. Show 5 rows, selected at random, from the data set:"
   ]
  },
  {
   "cell_type": "code",
   "execution_count": 4,
   "metadata": {},
   "outputs": [
    {
     "data": {
      "text/html": [
       "<div>\n",
       "<style scoped>\n",
       "    .dataframe tbody tr th:only-of-type {\n",
       "        vertical-align: middle;\n",
       "    }\n",
       "\n",
       "    .dataframe tbody tr th {\n",
       "        vertical-align: top;\n",
       "    }\n",
       "\n",
       "    .dataframe thead th {\n",
       "        text-align: right;\n",
       "    }\n",
       "</style>\n",
       "<table border=\"1\" class=\"dataframe\">\n",
       "  <thead>\n",
       "    <tr style=\"text-align: right;\">\n",
       "      <th></th>\n",
       "      <th>INCIDENT_KEY</th>\n",
       "      <th>OCCUR_DATE</th>\n",
       "      <th>OCCUR_TIME</th>\n",
       "      <th>BORO</th>\n",
       "      <th>LOC_OF_OCCUR_DESC</th>\n",
       "      <th>PRECINCT</th>\n",
       "      <th>JURISDICTION_CODE</th>\n",
       "      <th>LOC_CLASSFCTN_DESC</th>\n",
       "      <th>LOCATION_DESC</th>\n",
       "      <th>STATISTICAL_MURDER_FLAG</th>\n",
       "      <th>...</th>\n",
       "      <th>PERP_SEX</th>\n",
       "      <th>PERP_RACE</th>\n",
       "      <th>VIC_AGE_GROUP</th>\n",
       "      <th>VIC_SEX</th>\n",
       "      <th>VIC_RACE</th>\n",
       "      <th>X_COORD_CD</th>\n",
       "      <th>Y_COORD_CD</th>\n",
       "      <th>Latitude</th>\n",
       "      <th>Longitude</th>\n",
       "      <th>New Georeferenced Column</th>\n",
       "    </tr>\n",
       "  </thead>\n",
       "  <tbody>\n",
       "    <tr>\n",
       "      <th>0</th>\n",
       "      <td>283390056</td>\n",
       "      <td>03/07/2024</td>\n",
       "      <td>17:15:00</td>\n",
       "      <td>BROOKLYN</td>\n",
       "      <td>OUTSIDE</td>\n",
       "      <td>73</td>\n",
       "      <td>0</td>\n",
       "      <td>STREET</td>\n",
       "      <td>(null)</td>\n",
       "      <td>N</td>\n",
       "      <td>...</td>\n",
       "      <td>M</td>\n",
       "      <td>BLACK</td>\n",
       "      <td>18-24</td>\n",
       "      <td>M</td>\n",
       "      <td>BLACK</td>\n",
       "      <td>1008245</td>\n",
       "      <td>183796</td>\n",
       "      <td>NaN</td>\n",
       "      <td>NaN</td>\n",
       "      <td>NaN</td>\n",
       "    </tr>\n",
       "    <tr>\n",
       "      <th>1</th>\n",
       "      <td>283404608</td>\n",
       "      <td>03/07/2024</td>\n",
       "      <td>16:14:00</td>\n",
       "      <td>BRONX</td>\n",
       "      <td>OUTSIDE</td>\n",
       "      <td>40</td>\n",
       "      <td>0</td>\n",
       "      <td>STREET</td>\n",
       "      <td>(null)</td>\n",
       "      <td>Y</td>\n",
       "      <td>...</td>\n",
       "      <td>M</td>\n",
       "      <td>BLACK</td>\n",
       "      <td>&lt;18</td>\n",
       "      <td>M</td>\n",
       "      <td>BLACK</td>\n",
       "      <td>1005028</td>\n",
       "      <td>234516</td>\n",
       "      <td>NaN</td>\n",
       "      <td>NaN</td>\n",
       "      <td>NaN</td>\n",
       "    </tr>\n",
       "    <tr>\n",
       "      <th>2</th>\n",
       "      <td>281250471</td>\n",
       "      <td>01/27/2024</td>\n",
       "      <td>18:36:00</td>\n",
       "      <td>BROOKLYN</td>\n",
       "      <td>OUTSIDE</td>\n",
       "      <td>75</td>\n",
       "      <td>0</td>\n",
       "      <td>STREET</td>\n",
       "      <td>(null)</td>\n",
       "      <td>N</td>\n",
       "      <td>...</td>\n",
       "      <td>(null)</td>\n",
       "      <td>(null)</td>\n",
       "      <td>25-44</td>\n",
       "      <td>M</td>\n",
       "      <td>BLACK</td>\n",
       "      <td>1015391</td>\n",
       "      <td>181282</td>\n",
       "      <td>40.664200</td>\n",
       "      <td>-73.887750</td>\n",
       "      <td>POINT (-73.88775 40.6642)</td>\n",
       "    </tr>\n",
       "    <tr>\n",
       "      <th>3</th>\n",
       "      <td>283951187</td>\n",
       "      <td>03/18/2024</td>\n",
       "      <td>22:00:00</td>\n",
       "      <td>QUEENS</td>\n",
       "      <td>OUTSIDE</td>\n",
       "      <td>103</td>\n",
       "      <td>0</td>\n",
       "      <td>DWELLING</td>\n",
       "      <td>PVT HOUSE</td>\n",
       "      <td>N</td>\n",
       "      <td>...</td>\n",
       "      <td>(null)</td>\n",
       "      <td>(null)</td>\n",
       "      <td>25-44</td>\n",
       "      <td>M</td>\n",
       "      <td>BLACK</td>\n",
       "      <td>1042419</td>\n",
       "      <td>193657</td>\n",
       "      <td>40.698032</td>\n",
       "      <td>-73.790219</td>\n",
       "      <td>POINT (-73.790219 40.698032)</td>\n",
       "    </tr>\n",
       "    <tr>\n",
       "      <th>4</th>\n",
       "      <td>279799858</td>\n",
       "      <td>01/01/2024</td>\n",
       "      <td>14:57:00</td>\n",
       "      <td>BRONX</td>\n",
       "      <td>OUTSIDE</td>\n",
       "      <td>52</td>\n",
       "      <td>0</td>\n",
       "      <td>STREET</td>\n",
       "      <td>(null)</td>\n",
       "      <td>N</td>\n",
       "      <td>...</td>\n",
       "      <td>M</td>\n",
       "      <td>BLACK HISPANIC</td>\n",
       "      <td>18-24</td>\n",
       "      <td>M</td>\n",
       "      <td>WHITE HISPANIC</td>\n",
       "      <td>1014086</td>\n",
       "      <td>254305</td>\n",
       "      <td>40.864633</td>\n",
       "      <td>-73.892131</td>\n",
       "      <td>POINT (-73.89213149135563 40.86463266264929)</td>\n",
       "    </tr>\n",
       "  </tbody>\n",
       "</table>\n",
       "<p>5 rows × 21 columns</p>\n",
       "</div>"
      ],
      "text/plain": [
       "   INCIDENT_KEY  OCCUR_DATE OCCUR_TIME      BORO LOC_OF_OCCUR_DESC  PRECINCT  \\\n",
       "0     283390056  03/07/2024   17:15:00  BROOKLYN           OUTSIDE        73   \n",
       "1     283404608  03/07/2024   16:14:00     BRONX           OUTSIDE        40   \n",
       "2     281250471  01/27/2024   18:36:00  BROOKLYN           OUTSIDE        75   \n",
       "3     283951187  03/18/2024   22:00:00    QUEENS           OUTSIDE       103   \n",
       "4     279799858  01/01/2024   14:57:00     BRONX           OUTSIDE        52   \n",
       "\n",
       "   JURISDICTION_CODE LOC_CLASSFCTN_DESC LOCATION_DESC STATISTICAL_MURDER_FLAG  \\\n",
       "0                  0             STREET        (null)                       N   \n",
       "1                  0             STREET        (null)                       Y   \n",
       "2                  0             STREET        (null)                       N   \n",
       "3                  0           DWELLING     PVT HOUSE                       N   \n",
       "4                  0             STREET        (null)                       N   \n",
       "\n",
       "   ... PERP_SEX       PERP_RACE VIC_AGE_GROUP VIC_SEX        VIC_RACE  \\\n",
       "0  ...        M           BLACK         18-24       M           BLACK   \n",
       "1  ...        M           BLACK           <18       M           BLACK   \n",
       "2  ...   (null)          (null)         25-44       M           BLACK   \n",
       "3  ...   (null)          (null)         25-44       M           BLACK   \n",
       "4  ...        M  BLACK HISPANIC         18-24       M  WHITE HISPANIC   \n",
       "\n",
       "  X_COORD_CD  Y_COORD_CD   Latitude  Longitude  \\\n",
       "0    1008245      183796        NaN        NaN   \n",
       "1    1005028      234516        NaN        NaN   \n",
       "2    1015391      181282  40.664200 -73.887750   \n",
       "3    1042419      193657  40.698032 -73.790219   \n",
       "4    1014086      254305  40.864633 -73.892131   \n",
       "\n",
       "                       New Georeferenced Column  \n",
       "0                                           NaN  \n",
       "1                                           NaN  \n",
       "2                     POINT (-73.88775 40.6642)  \n",
       "3                  POINT (-73.790219 40.698032)  \n",
       "4  POINT (-73.89213149135563 40.86463266264929)  \n",
       "\n",
       "[5 rows x 21 columns]"
      ]
     },
     "execution_count": 4,
     "metadata": {},
     "output_type": "execute_result"
    }
   ],
   "source": [
    "df.head()"
   ]
  },
  {
   "cell_type": "markdown",
   "metadata": {},
   "source": [
    "### 2. Show shape(number of rows and columns) of dataframe:"
   ]
  },
  {
   "cell_type": "code",
   "execution_count": 5,
   "metadata": {},
   "outputs": [
    {
     "name": "stdout",
     "output_type": "stream",
     "text": [
      "(232, 21)\n"
     ]
    }
   ],
   "source": [
    "print(df.shape)"
   ]
  },
  {
   "cell_type": "markdown",
   "metadata": {},
   "source": [
    "### 3. Show each of the column names and their data types:"
   ]
  },
  {
   "cell_type": "code",
   "execution_count": 6,
   "metadata": {},
   "outputs": [
    {
     "name": "stdout",
     "output_type": "stream",
     "text": [
      "<class 'pandas.core.frame.DataFrame'>\n",
      "RangeIndex: 232 entries, 0 to 231\n",
      "Data columns (total 21 columns):\n",
      " #   Column                    Non-Null Count  Dtype  \n",
      "---  ------                    --------------  -----  \n",
      " 0   INCIDENT_KEY              232 non-null    int64  \n",
      " 1   OCCUR_DATE                232 non-null    object \n",
      " 2   OCCUR_TIME                232 non-null    object \n",
      " 3   BORO                      232 non-null    object \n",
      " 4   LOC_OF_OCCUR_DESC         232 non-null    object \n",
      " 5   PRECINCT                  232 non-null    int64  \n",
      " 6   JURISDICTION_CODE         232 non-null    int64  \n",
      " 7   LOC_CLASSFCTN_DESC        232 non-null    object \n",
      " 8   LOCATION_DESC             232 non-null    object \n",
      " 9   STATISTICAL_MURDER_FLAG   232 non-null    object \n",
      " 10  PERP_AGE_GROUP            232 non-null    object \n",
      " 11  PERP_SEX                  232 non-null    object \n",
      " 12  PERP_RACE                 232 non-null    object \n",
      " 13  VIC_AGE_GROUP             232 non-null    object \n",
      " 14  VIC_SEX                   232 non-null    object \n",
      " 15  VIC_RACE                  232 non-null    object \n",
      " 16  X_COORD_CD                232 non-null    int64  \n",
      " 17  Y_COORD_CD                232 non-null    int64  \n",
      " 18  Latitude                  226 non-null    float64\n",
      " 19  Longitude                 226 non-null    float64\n",
      " 20  New Georeferenced Column  226 non-null    object \n",
      "dtypes: float64(2), int64(5), object(14)\n",
      "memory usage: 38.2+ KB\n",
      "None\n"
     ]
    }
   ],
   "source": [
    "print(df.info())"
   ]
  },
  {
   "cell_type": "markdown",
   "metadata": {},
   "source": [
    "It's worth noting that there are columns listed as having 'non-null' values for the entirety of the column while we can clearly see some (null) values in the random five rows that were displayed in Data Inspection 1."
   ]
  },
  {
   "cell_type": "markdown",
   "metadata": {},
   "source": [
    "## Data munging\n",
    "Place your **data munging** code and documentation within this section.  \n",
    "- Keep each of your Code cells short and focused on a single task.  \n",
    "- Include a Markdown cell above each code cell that describes what task the code within the code cell is performing.\n",
    "- Make as many code cells as you need to complete the munging - a few have been created for you to start with.\n",
    "- Display 5 sample rows of the modified data after each transformation so a viewer can see how the data has changed.\n",
    "\n",
    "**Note**: If you believe that your data set does not require any munging, please explain in detail.  Create Markdown cells that explain your thinking and create Code cells that show any specific structures of the data you refer to in your explanation."
   ]
  },
  {
   "cell_type": "markdown",
   "metadata": {},
   "source": [
    "### 1. Convert '(null)' to actual Pandas NaN value.\n",
    "\n",
    "There are clearly 'null' values as well as NaN values listed in the five rows that were displayed in data inspection(and presumably more later in the dataframe), but they were not reflected in the overview in inspection question 3. We need to go through them and replace them with actual Pandas NaN values."
   ]
  },
  {
   "cell_type": "code",
   "execution_count": 7,
   "metadata": {},
   "outputs": [],
   "source": [
    "df.replace('(null)', np.nan, inplace=True)"
   ]
  },
  {
   "cell_type": "markdown",
   "metadata": {},
   "source": [
    "Result:"
   ]
  },
  {
   "cell_type": "code",
   "execution_count": 8,
   "metadata": {},
   "outputs": [
    {
     "data": {
      "text/html": [
       "<div>\n",
       "<style scoped>\n",
       "    .dataframe tbody tr th:only-of-type {\n",
       "        vertical-align: middle;\n",
       "    }\n",
       "\n",
       "    .dataframe tbody tr th {\n",
       "        vertical-align: top;\n",
       "    }\n",
       "\n",
       "    .dataframe thead th {\n",
       "        text-align: right;\n",
       "    }\n",
       "</style>\n",
       "<table border=\"1\" class=\"dataframe\">\n",
       "  <thead>\n",
       "    <tr style=\"text-align: right;\">\n",
       "      <th></th>\n",
       "      <th>INCIDENT_KEY</th>\n",
       "      <th>OCCUR_DATE</th>\n",
       "      <th>OCCUR_TIME</th>\n",
       "      <th>BORO</th>\n",
       "      <th>LOC_OF_OCCUR_DESC</th>\n",
       "      <th>PRECINCT</th>\n",
       "      <th>JURISDICTION_CODE</th>\n",
       "      <th>LOC_CLASSFCTN_DESC</th>\n",
       "      <th>LOCATION_DESC</th>\n",
       "      <th>STATISTICAL_MURDER_FLAG</th>\n",
       "      <th>...</th>\n",
       "      <th>PERP_SEX</th>\n",
       "      <th>PERP_RACE</th>\n",
       "      <th>VIC_AGE_GROUP</th>\n",
       "      <th>VIC_SEX</th>\n",
       "      <th>VIC_RACE</th>\n",
       "      <th>X_COORD_CD</th>\n",
       "      <th>Y_COORD_CD</th>\n",
       "      <th>Latitude</th>\n",
       "      <th>Longitude</th>\n",
       "      <th>New Georeferenced Column</th>\n",
       "    </tr>\n",
       "  </thead>\n",
       "  <tbody>\n",
       "    <tr>\n",
       "      <th>0</th>\n",
       "      <td>283390056</td>\n",
       "      <td>03/07/2024</td>\n",
       "      <td>17:15:00</td>\n",
       "      <td>BROOKLYN</td>\n",
       "      <td>OUTSIDE</td>\n",
       "      <td>73</td>\n",
       "      <td>0</td>\n",
       "      <td>STREET</td>\n",
       "      <td>NaN</td>\n",
       "      <td>N</td>\n",
       "      <td>...</td>\n",
       "      <td>M</td>\n",
       "      <td>BLACK</td>\n",
       "      <td>18-24</td>\n",
       "      <td>M</td>\n",
       "      <td>BLACK</td>\n",
       "      <td>1008245</td>\n",
       "      <td>183796</td>\n",
       "      <td>NaN</td>\n",
       "      <td>NaN</td>\n",
       "      <td>NaN</td>\n",
       "    </tr>\n",
       "    <tr>\n",
       "      <th>1</th>\n",
       "      <td>283404608</td>\n",
       "      <td>03/07/2024</td>\n",
       "      <td>16:14:00</td>\n",
       "      <td>BRONX</td>\n",
       "      <td>OUTSIDE</td>\n",
       "      <td>40</td>\n",
       "      <td>0</td>\n",
       "      <td>STREET</td>\n",
       "      <td>NaN</td>\n",
       "      <td>Y</td>\n",
       "      <td>...</td>\n",
       "      <td>M</td>\n",
       "      <td>BLACK</td>\n",
       "      <td>&lt;18</td>\n",
       "      <td>M</td>\n",
       "      <td>BLACK</td>\n",
       "      <td>1005028</td>\n",
       "      <td>234516</td>\n",
       "      <td>NaN</td>\n",
       "      <td>NaN</td>\n",
       "      <td>NaN</td>\n",
       "    </tr>\n",
       "    <tr>\n",
       "      <th>2</th>\n",
       "      <td>281250471</td>\n",
       "      <td>01/27/2024</td>\n",
       "      <td>18:36:00</td>\n",
       "      <td>BROOKLYN</td>\n",
       "      <td>OUTSIDE</td>\n",
       "      <td>75</td>\n",
       "      <td>0</td>\n",
       "      <td>STREET</td>\n",
       "      <td>NaN</td>\n",
       "      <td>N</td>\n",
       "      <td>...</td>\n",
       "      <td>NaN</td>\n",
       "      <td>NaN</td>\n",
       "      <td>25-44</td>\n",
       "      <td>M</td>\n",
       "      <td>BLACK</td>\n",
       "      <td>1015391</td>\n",
       "      <td>181282</td>\n",
       "      <td>40.664200</td>\n",
       "      <td>-73.887750</td>\n",
       "      <td>POINT (-73.88775 40.6642)</td>\n",
       "    </tr>\n",
       "    <tr>\n",
       "      <th>3</th>\n",
       "      <td>283951187</td>\n",
       "      <td>03/18/2024</td>\n",
       "      <td>22:00:00</td>\n",
       "      <td>QUEENS</td>\n",
       "      <td>OUTSIDE</td>\n",
       "      <td>103</td>\n",
       "      <td>0</td>\n",
       "      <td>DWELLING</td>\n",
       "      <td>PVT HOUSE</td>\n",
       "      <td>N</td>\n",
       "      <td>...</td>\n",
       "      <td>NaN</td>\n",
       "      <td>NaN</td>\n",
       "      <td>25-44</td>\n",
       "      <td>M</td>\n",
       "      <td>BLACK</td>\n",
       "      <td>1042419</td>\n",
       "      <td>193657</td>\n",
       "      <td>40.698032</td>\n",
       "      <td>-73.790219</td>\n",
       "      <td>POINT (-73.790219 40.698032)</td>\n",
       "    </tr>\n",
       "    <tr>\n",
       "      <th>4</th>\n",
       "      <td>279799858</td>\n",
       "      <td>01/01/2024</td>\n",
       "      <td>14:57:00</td>\n",
       "      <td>BRONX</td>\n",
       "      <td>OUTSIDE</td>\n",
       "      <td>52</td>\n",
       "      <td>0</td>\n",
       "      <td>STREET</td>\n",
       "      <td>NaN</td>\n",
       "      <td>N</td>\n",
       "      <td>...</td>\n",
       "      <td>M</td>\n",
       "      <td>BLACK HISPANIC</td>\n",
       "      <td>18-24</td>\n",
       "      <td>M</td>\n",
       "      <td>WHITE HISPANIC</td>\n",
       "      <td>1014086</td>\n",
       "      <td>254305</td>\n",
       "      <td>40.864633</td>\n",
       "      <td>-73.892131</td>\n",
       "      <td>POINT (-73.89213149135563 40.86463266264929)</td>\n",
       "    </tr>\n",
       "  </tbody>\n",
       "</table>\n",
       "<p>5 rows × 21 columns</p>\n",
       "</div>"
      ],
      "text/plain": [
       "   INCIDENT_KEY  OCCUR_DATE OCCUR_TIME      BORO LOC_OF_OCCUR_DESC  PRECINCT  \\\n",
       "0     283390056  03/07/2024   17:15:00  BROOKLYN           OUTSIDE        73   \n",
       "1     283404608  03/07/2024   16:14:00     BRONX           OUTSIDE        40   \n",
       "2     281250471  01/27/2024   18:36:00  BROOKLYN           OUTSIDE        75   \n",
       "3     283951187  03/18/2024   22:00:00    QUEENS           OUTSIDE       103   \n",
       "4     279799858  01/01/2024   14:57:00     BRONX           OUTSIDE        52   \n",
       "\n",
       "   JURISDICTION_CODE LOC_CLASSFCTN_DESC LOCATION_DESC STATISTICAL_MURDER_FLAG  \\\n",
       "0                  0             STREET           NaN                       N   \n",
       "1                  0             STREET           NaN                       Y   \n",
       "2                  0             STREET           NaN                       N   \n",
       "3                  0           DWELLING     PVT HOUSE                       N   \n",
       "4                  0             STREET           NaN                       N   \n",
       "\n",
       "   ... PERP_SEX       PERP_RACE VIC_AGE_GROUP VIC_SEX        VIC_RACE  \\\n",
       "0  ...        M           BLACK         18-24       M           BLACK   \n",
       "1  ...        M           BLACK           <18       M           BLACK   \n",
       "2  ...      NaN             NaN         25-44       M           BLACK   \n",
       "3  ...      NaN             NaN         25-44       M           BLACK   \n",
       "4  ...        M  BLACK HISPANIC         18-24       M  WHITE HISPANIC   \n",
       "\n",
       "  X_COORD_CD  Y_COORD_CD   Latitude  Longitude  \\\n",
       "0    1008245      183796        NaN        NaN   \n",
       "1    1005028      234516        NaN        NaN   \n",
       "2    1015391      181282  40.664200 -73.887750   \n",
       "3    1042419      193657  40.698032 -73.790219   \n",
       "4    1014086      254305  40.864633 -73.892131   \n",
       "\n",
       "                       New Georeferenced Column  \n",
       "0                                           NaN  \n",
       "1                                           NaN  \n",
       "2                     POINT (-73.88775 40.6642)  \n",
       "3                  POINT (-73.790219 40.698032)  \n",
       "4  POINT (-73.89213149135563 40.86463266264929)  \n",
       "\n",
       "[5 rows x 21 columns]"
      ]
     },
     "execution_count": 8,
     "metadata": {},
     "output_type": "execute_result"
    }
   ],
   "source": [
    "df.head()"
   ]
  },
  {
   "cell_type": "markdown",
   "metadata": {},
   "source": [
    "#### 1-1. Decide what to do with NaN values."
   ]
  },
  {
   "cell_type": "code",
   "execution_count": 9,
   "metadata": {},
   "outputs": [
    {
     "data": {
      "text/plain": [
       "INCIDENT_KEY                  0\n",
       "OCCUR_DATE                    0\n",
       "OCCUR_TIME                    0\n",
       "BORO                          0\n",
       "LOC_OF_OCCUR_DESC             0\n",
       "PRECINCT                      0\n",
       "JURISDICTION_CODE             0\n",
       "LOC_CLASSFCTN_DESC            1\n",
       "LOCATION_DESC               150\n",
       "STATISTICAL_MURDER_FLAG       0\n",
       "PERP_AGE_GROUP               99\n",
       "PERP_SEX                     99\n",
       "PERP_RACE                    99\n",
       "VIC_AGE_GROUP                 0\n",
       "VIC_SEX                       0\n",
       "VIC_RACE                      0\n",
       "X_COORD_CD                    0\n",
       "Y_COORD_CD                    0\n",
       "Latitude                      6\n",
       "Longitude                     6\n",
       "New Georeferenced Column      6\n",
       "dtype: int64"
      ]
     },
     "execution_count": 9,
     "metadata": {},
     "output_type": "execute_result"
    }
   ],
   "source": [
    "df.isnull().sum(axis = 0)"
   ]
  },
  {
   "cell_type": "markdown",
   "metadata": {},
   "source": [
    "There seems to be multiple columns that contain a high number of NaN values(≥99), so unless I decide to keep those columns out of analysis, dropping all rows that contain NaN doesn't seem to be an option. The columns with high number of NaN values also seem quite relevant and useful for data analysis, so I will not be dropping any rows or columns based on NaN; thankfully, Pandas does a good job to deal with NaN values in descriptive statistics and analysis. I will leave the NaN as they are."
   ]
  },
  {
   "cell_type": "markdown",
   "metadata": {},
   "source": [
    "### 2. Clean column names.\n",
    "\n",
    "They're inconsistent!"
   ]
  },
  {
   "cell_type": "code",
   "execution_count": 10,
   "metadata": {},
   "outputs": [],
   "source": [
    "df.columns = [x.lower() for x in df.columns] # Lowercase\n",
    "df.columns = df.columns.str.replace(' ', '_') # Replace space with underscore"
   ]
  },
  {
   "cell_type": "markdown",
   "metadata": {},
   "source": [
    "Result:"
   ]
  },
  {
   "cell_type": "code",
   "execution_count": 11,
   "metadata": {},
   "outputs": [
    {
     "data": {
      "text/html": [
       "<div>\n",
       "<style scoped>\n",
       "    .dataframe tbody tr th:only-of-type {\n",
       "        vertical-align: middle;\n",
       "    }\n",
       "\n",
       "    .dataframe tbody tr th {\n",
       "        vertical-align: top;\n",
       "    }\n",
       "\n",
       "    .dataframe thead th {\n",
       "        text-align: right;\n",
       "    }\n",
       "</style>\n",
       "<table border=\"1\" class=\"dataframe\">\n",
       "  <thead>\n",
       "    <tr style=\"text-align: right;\">\n",
       "      <th></th>\n",
       "      <th>incident_key</th>\n",
       "      <th>occur_date</th>\n",
       "      <th>occur_time</th>\n",
       "      <th>boro</th>\n",
       "      <th>loc_of_occur_desc</th>\n",
       "      <th>precinct</th>\n",
       "      <th>jurisdiction_code</th>\n",
       "      <th>loc_classfctn_desc</th>\n",
       "      <th>location_desc</th>\n",
       "      <th>statistical_murder_flag</th>\n",
       "      <th>...</th>\n",
       "      <th>perp_sex</th>\n",
       "      <th>perp_race</th>\n",
       "      <th>vic_age_group</th>\n",
       "      <th>vic_sex</th>\n",
       "      <th>vic_race</th>\n",
       "      <th>x_coord_cd</th>\n",
       "      <th>y_coord_cd</th>\n",
       "      <th>latitude</th>\n",
       "      <th>longitude</th>\n",
       "      <th>new_georeferenced_column</th>\n",
       "    </tr>\n",
       "  </thead>\n",
       "  <tbody>\n",
       "    <tr>\n",
       "      <th>0</th>\n",
       "      <td>283390056</td>\n",
       "      <td>03/07/2024</td>\n",
       "      <td>17:15:00</td>\n",
       "      <td>BROOKLYN</td>\n",
       "      <td>OUTSIDE</td>\n",
       "      <td>73</td>\n",
       "      <td>0</td>\n",
       "      <td>STREET</td>\n",
       "      <td>NaN</td>\n",
       "      <td>N</td>\n",
       "      <td>...</td>\n",
       "      <td>M</td>\n",
       "      <td>BLACK</td>\n",
       "      <td>18-24</td>\n",
       "      <td>M</td>\n",
       "      <td>BLACK</td>\n",
       "      <td>1008245</td>\n",
       "      <td>183796</td>\n",
       "      <td>NaN</td>\n",
       "      <td>NaN</td>\n",
       "      <td>NaN</td>\n",
       "    </tr>\n",
       "    <tr>\n",
       "      <th>1</th>\n",
       "      <td>283404608</td>\n",
       "      <td>03/07/2024</td>\n",
       "      <td>16:14:00</td>\n",
       "      <td>BRONX</td>\n",
       "      <td>OUTSIDE</td>\n",
       "      <td>40</td>\n",
       "      <td>0</td>\n",
       "      <td>STREET</td>\n",
       "      <td>NaN</td>\n",
       "      <td>Y</td>\n",
       "      <td>...</td>\n",
       "      <td>M</td>\n",
       "      <td>BLACK</td>\n",
       "      <td>&lt;18</td>\n",
       "      <td>M</td>\n",
       "      <td>BLACK</td>\n",
       "      <td>1005028</td>\n",
       "      <td>234516</td>\n",
       "      <td>NaN</td>\n",
       "      <td>NaN</td>\n",
       "      <td>NaN</td>\n",
       "    </tr>\n",
       "    <tr>\n",
       "      <th>2</th>\n",
       "      <td>281250471</td>\n",
       "      <td>01/27/2024</td>\n",
       "      <td>18:36:00</td>\n",
       "      <td>BROOKLYN</td>\n",
       "      <td>OUTSIDE</td>\n",
       "      <td>75</td>\n",
       "      <td>0</td>\n",
       "      <td>STREET</td>\n",
       "      <td>NaN</td>\n",
       "      <td>N</td>\n",
       "      <td>...</td>\n",
       "      <td>NaN</td>\n",
       "      <td>NaN</td>\n",
       "      <td>25-44</td>\n",
       "      <td>M</td>\n",
       "      <td>BLACK</td>\n",
       "      <td>1015391</td>\n",
       "      <td>181282</td>\n",
       "      <td>40.664200</td>\n",
       "      <td>-73.887750</td>\n",
       "      <td>POINT (-73.88775 40.6642)</td>\n",
       "    </tr>\n",
       "    <tr>\n",
       "      <th>3</th>\n",
       "      <td>283951187</td>\n",
       "      <td>03/18/2024</td>\n",
       "      <td>22:00:00</td>\n",
       "      <td>QUEENS</td>\n",
       "      <td>OUTSIDE</td>\n",
       "      <td>103</td>\n",
       "      <td>0</td>\n",
       "      <td>DWELLING</td>\n",
       "      <td>PVT HOUSE</td>\n",
       "      <td>N</td>\n",
       "      <td>...</td>\n",
       "      <td>NaN</td>\n",
       "      <td>NaN</td>\n",
       "      <td>25-44</td>\n",
       "      <td>M</td>\n",
       "      <td>BLACK</td>\n",
       "      <td>1042419</td>\n",
       "      <td>193657</td>\n",
       "      <td>40.698032</td>\n",
       "      <td>-73.790219</td>\n",
       "      <td>POINT (-73.790219 40.698032)</td>\n",
       "    </tr>\n",
       "    <tr>\n",
       "      <th>4</th>\n",
       "      <td>279799858</td>\n",
       "      <td>01/01/2024</td>\n",
       "      <td>14:57:00</td>\n",
       "      <td>BRONX</td>\n",
       "      <td>OUTSIDE</td>\n",
       "      <td>52</td>\n",
       "      <td>0</td>\n",
       "      <td>STREET</td>\n",
       "      <td>NaN</td>\n",
       "      <td>N</td>\n",
       "      <td>...</td>\n",
       "      <td>M</td>\n",
       "      <td>BLACK HISPANIC</td>\n",
       "      <td>18-24</td>\n",
       "      <td>M</td>\n",
       "      <td>WHITE HISPANIC</td>\n",
       "      <td>1014086</td>\n",
       "      <td>254305</td>\n",
       "      <td>40.864633</td>\n",
       "      <td>-73.892131</td>\n",
       "      <td>POINT (-73.89213149135563 40.86463266264929)</td>\n",
       "    </tr>\n",
       "  </tbody>\n",
       "</table>\n",
       "<p>5 rows × 21 columns</p>\n",
       "</div>"
      ],
      "text/plain": [
       "   incident_key  occur_date occur_time      boro loc_of_occur_desc  precinct  \\\n",
       "0     283390056  03/07/2024   17:15:00  BROOKLYN           OUTSIDE        73   \n",
       "1     283404608  03/07/2024   16:14:00     BRONX           OUTSIDE        40   \n",
       "2     281250471  01/27/2024   18:36:00  BROOKLYN           OUTSIDE        75   \n",
       "3     283951187  03/18/2024   22:00:00    QUEENS           OUTSIDE       103   \n",
       "4     279799858  01/01/2024   14:57:00     BRONX           OUTSIDE        52   \n",
       "\n",
       "   jurisdiction_code loc_classfctn_desc location_desc statistical_murder_flag  \\\n",
       "0                  0             STREET           NaN                       N   \n",
       "1                  0             STREET           NaN                       Y   \n",
       "2                  0             STREET           NaN                       N   \n",
       "3                  0           DWELLING     PVT HOUSE                       N   \n",
       "4                  0             STREET           NaN                       N   \n",
       "\n",
       "   ... perp_sex       perp_race vic_age_group vic_sex        vic_race  \\\n",
       "0  ...        M           BLACK         18-24       M           BLACK   \n",
       "1  ...        M           BLACK           <18       M           BLACK   \n",
       "2  ...      NaN             NaN         25-44       M           BLACK   \n",
       "3  ...      NaN             NaN         25-44       M           BLACK   \n",
       "4  ...        M  BLACK HISPANIC         18-24       M  WHITE HISPANIC   \n",
       "\n",
       "  x_coord_cd  y_coord_cd   latitude  longitude  \\\n",
       "0    1008245      183796        NaN        NaN   \n",
       "1    1005028      234516        NaN        NaN   \n",
       "2    1015391      181282  40.664200 -73.887750   \n",
       "3    1042419      193657  40.698032 -73.790219   \n",
       "4    1014086      254305  40.864633 -73.892131   \n",
       "\n",
       "                       new_georeferenced_column  \n",
       "0                                           NaN  \n",
       "1                                           NaN  \n",
       "2                     POINT (-73.88775 40.6642)  \n",
       "3                  POINT (-73.790219 40.698032)  \n",
       "4  POINT (-73.89213149135563 40.86463266264929)  \n",
       "\n",
       "[5 rows x 21 columns]"
      ]
     },
     "execution_count": 11,
     "metadata": {},
     "output_type": "execute_result"
    }
   ],
   "source": [
    "df.head()"
   ]
  },
  {
   "cell_type": "markdown",
   "metadata": {},
   "source": [
    "### 3. Clarify/re-format some columns."
   ]
  },
  {
   "cell_type": "markdown",
   "metadata": {},
   "source": [
    "#### 3-1. Clarify 'jurisdiction_code'\n",
    "\n",
    "This column contains numerical codes that does not make intuitive sense to the viewer; I will convert them to string values so it's easier for viewers to understand, using the footnotes in the original data source."
   ]
  },
  {
   "cell_type": "code",
   "execution_count": 12,
   "metadata": {},
   "outputs": [
    {
     "name": "stderr",
     "output_type": "stream",
     "text": [
      "/var/folders/c0/0c_b64hn65zc4mh0lkr4wn_00000gn/T/ipykernel_3565/2706372855.py:4: FutureWarning: A value is trying to be set on a copy of a DataFrame or Series through chained assignment using an inplace method.\n",
      "The behavior will change in pandas 3.0. This inplace method will never work because the intermediate object on which we are setting values always behaves as a copy.\n",
      "\n",
      "For example, when doing 'df[col].method(value, inplace=True)', try using 'df.method({col: value}, inplace=True)' or df[col] = df[col].method(value) instead, to perform the operation inplace on the original object.\n",
      "\n",
      "\n",
      "  df['jurisdiction_code'].replace(0, 'PATROL', inplace = True)\n"
     ]
    }
   ],
   "source": [
    "# I replaced the data with string in all caps to keep the consistency with other columns,\n",
    "# which all seem to have string values capitalized.\n",
    "\n",
    "df['jurisdiction_code'].replace(0, 'PATROL', inplace = True)\n",
    "df['jurisdiction_code'].replace(1, 'TRANSIT', inplace = True)\n",
    "df['jurisdiction_code'].replace(2, 'HOUSING', inplace = True)\n",
    "df['jurisdiction_code'].replace(3, 'NON-NYPD', inplace = True)"
   ]
  },
  {
   "cell_type": "markdown",
   "metadata": {},
   "source": [
    "Result:"
   ]
  },
  {
   "cell_type": "code",
   "execution_count": 13,
   "metadata": {},
   "outputs": [
    {
     "data": {
      "text/plain": [
       "array(['PATROL', 'TRANSIT', 'HOUSING'], dtype=object)"
      ]
     },
     "execution_count": 13,
     "metadata": {},
     "output_type": "execute_result"
    }
   ],
   "source": [
    "df['jurisdiction_code'].unique() # Check values have all been correctly replaced"
   ]
  },
  {
   "cell_type": "code",
   "execution_count": 14,
   "metadata": {},
   "outputs": [
    {
     "data": {
      "text/html": [
       "<div>\n",
       "<style scoped>\n",
       "    .dataframe tbody tr th:only-of-type {\n",
       "        vertical-align: middle;\n",
       "    }\n",
       "\n",
       "    .dataframe tbody tr th {\n",
       "        vertical-align: top;\n",
       "    }\n",
       "\n",
       "    .dataframe thead th {\n",
       "        text-align: right;\n",
       "    }\n",
       "</style>\n",
       "<table border=\"1\" class=\"dataframe\">\n",
       "  <thead>\n",
       "    <tr style=\"text-align: right;\">\n",
       "      <th></th>\n",
       "      <th>incident_key</th>\n",
       "      <th>occur_date</th>\n",
       "      <th>occur_time</th>\n",
       "      <th>boro</th>\n",
       "      <th>loc_of_occur_desc</th>\n",
       "      <th>precinct</th>\n",
       "      <th>jurisdiction_code</th>\n",
       "      <th>loc_classfctn_desc</th>\n",
       "      <th>location_desc</th>\n",
       "      <th>statistical_murder_flag</th>\n",
       "      <th>...</th>\n",
       "      <th>perp_sex</th>\n",
       "      <th>perp_race</th>\n",
       "      <th>vic_age_group</th>\n",
       "      <th>vic_sex</th>\n",
       "      <th>vic_race</th>\n",
       "      <th>x_coord_cd</th>\n",
       "      <th>y_coord_cd</th>\n",
       "      <th>latitude</th>\n",
       "      <th>longitude</th>\n",
       "      <th>new_georeferenced_column</th>\n",
       "    </tr>\n",
       "  </thead>\n",
       "  <tbody>\n",
       "    <tr>\n",
       "      <th>0</th>\n",
       "      <td>283390056</td>\n",
       "      <td>03/07/2024</td>\n",
       "      <td>17:15:00</td>\n",
       "      <td>BROOKLYN</td>\n",
       "      <td>OUTSIDE</td>\n",
       "      <td>73</td>\n",
       "      <td>PATROL</td>\n",
       "      <td>STREET</td>\n",
       "      <td>NaN</td>\n",
       "      <td>N</td>\n",
       "      <td>...</td>\n",
       "      <td>M</td>\n",
       "      <td>BLACK</td>\n",
       "      <td>18-24</td>\n",
       "      <td>M</td>\n",
       "      <td>BLACK</td>\n",
       "      <td>1008245</td>\n",
       "      <td>183796</td>\n",
       "      <td>NaN</td>\n",
       "      <td>NaN</td>\n",
       "      <td>NaN</td>\n",
       "    </tr>\n",
       "    <tr>\n",
       "      <th>1</th>\n",
       "      <td>283404608</td>\n",
       "      <td>03/07/2024</td>\n",
       "      <td>16:14:00</td>\n",
       "      <td>BRONX</td>\n",
       "      <td>OUTSIDE</td>\n",
       "      <td>40</td>\n",
       "      <td>PATROL</td>\n",
       "      <td>STREET</td>\n",
       "      <td>NaN</td>\n",
       "      <td>Y</td>\n",
       "      <td>...</td>\n",
       "      <td>M</td>\n",
       "      <td>BLACK</td>\n",
       "      <td>&lt;18</td>\n",
       "      <td>M</td>\n",
       "      <td>BLACK</td>\n",
       "      <td>1005028</td>\n",
       "      <td>234516</td>\n",
       "      <td>NaN</td>\n",
       "      <td>NaN</td>\n",
       "      <td>NaN</td>\n",
       "    </tr>\n",
       "    <tr>\n",
       "      <th>2</th>\n",
       "      <td>281250471</td>\n",
       "      <td>01/27/2024</td>\n",
       "      <td>18:36:00</td>\n",
       "      <td>BROOKLYN</td>\n",
       "      <td>OUTSIDE</td>\n",
       "      <td>75</td>\n",
       "      <td>PATROL</td>\n",
       "      <td>STREET</td>\n",
       "      <td>NaN</td>\n",
       "      <td>N</td>\n",
       "      <td>...</td>\n",
       "      <td>NaN</td>\n",
       "      <td>NaN</td>\n",
       "      <td>25-44</td>\n",
       "      <td>M</td>\n",
       "      <td>BLACK</td>\n",
       "      <td>1015391</td>\n",
       "      <td>181282</td>\n",
       "      <td>40.664200</td>\n",
       "      <td>-73.887750</td>\n",
       "      <td>POINT (-73.88775 40.6642)</td>\n",
       "    </tr>\n",
       "    <tr>\n",
       "      <th>3</th>\n",
       "      <td>283951187</td>\n",
       "      <td>03/18/2024</td>\n",
       "      <td>22:00:00</td>\n",
       "      <td>QUEENS</td>\n",
       "      <td>OUTSIDE</td>\n",
       "      <td>103</td>\n",
       "      <td>PATROL</td>\n",
       "      <td>DWELLING</td>\n",
       "      <td>PVT HOUSE</td>\n",
       "      <td>N</td>\n",
       "      <td>...</td>\n",
       "      <td>NaN</td>\n",
       "      <td>NaN</td>\n",
       "      <td>25-44</td>\n",
       "      <td>M</td>\n",
       "      <td>BLACK</td>\n",
       "      <td>1042419</td>\n",
       "      <td>193657</td>\n",
       "      <td>40.698032</td>\n",
       "      <td>-73.790219</td>\n",
       "      <td>POINT (-73.790219 40.698032)</td>\n",
       "    </tr>\n",
       "    <tr>\n",
       "      <th>4</th>\n",
       "      <td>279799858</td>\n",
       "      <td>01/01/2024</td>\n",
       "      <td>14:57:00</td>\n",
       "      <td>BRONX</td>\n",
       "      <td>OUTSIDE</td>\n",
       "      <td>52</td>\n",
       "      <td>PATROL</td>\n",
       "      <td>STREET</td>\n",
       "      <td>NaN</td>\n",
       "      <td>N</td>\n",
       "      <td>...</td>\n",
       "      <td>M</td>\n",
       "      <td>BLACK HISPANIC</td>\n",
       "      <td>18-24</td>\n",
       "      <td>M</td>\n",
       "      <td>WHITE HISPANIC</td>\n",
       "      <td>1014086</td>\n",
       "      <td>254305</td>\n",
       "      <td>40.864633</td>\n",
       "      <td>-73.892131</td>\n",
       "      <td>POINT (-73.89213149135563 40.86463266264929)</td>\n",
       "    </tr>\n",
       "  </tbody>\n",
       "</table>\n",
       "<p>5 rows × 21 columns</p>\n",
       "</div>"
      ],
      "text/plain": [
       "   incident_key  occur_date occur_time      boro loc_of_occur_desc  precinct  \\\n",
       "0     283390056  03/07/2024   17:15:00  BROOKLYN           OUTSIDE        73   \n",
       "1     283404608  03/07/2024   16:14:00     BRONX           OUTSIDE        40   \n",
       "2     281250471  01/27/2024   18:36:00  BROOKLYN           OUTSIDE        75   \n",
       "3     283951187  03/18/2024   22:00:00    QUEENS           OUTSIDE       103   \n",
       "4     279799858  01/01/2024   14:57:00     BRONX           OUTSIDE        52   \n",
       "\n",
       "  jurisdiction_code loc_classfctn_desc location_desc statistical_murder_flag  \\\n",
       "0            PATROL             STREET           NaN                       N   \n",
       "1            PATROL             STREET           NaN                       Y   \n",
       "2            PATROL             STREET           NaN                       N   \n",
       "3            PATROL           DWELLING     PVT HOUSE                       N   \n",
       "4            PATROL             STREET           NaN                       N   \n",
       "\n",
       "   ... perp_sex       perp_race vic_age_group vic_sex        vic_race  \\\n",
       "0  ...        M           BLACK         18-24       M           BLACK   \n",
       "1  ...        M           BLACK           <18       M           BLACK   \n",
       "2  ...      NaN             NaN         25-44       M           BLACK   \n",
       "3  ...      NaN             NaN         25-44       M           BLACK   \n",
       "4  ...        M  BLACK HISPANIC         18-24       M  WHITE HISPANIC   \n",
       "\n",
       "  x_coord_cd  y_coord_cd   latitude  longitude  \\\n",
       "0    1008245      183796        NaN        NaN   \n",
       "1    1005028      234516        NaN        NaN   \n",
       "2    1015391      181282  40.664200 -73.887750   \n",
       "3    1042419      193657  40.698032 -73.790219   \n",
       "4    1014086      254305  40.864633 -73.892131   \n",
       "\n",
       "                       new_georeferenced_column  \n",
       "0                                           NaN  \n",
       "1                                           NaN  \n",
       "2                     POINT (-73.88775 40.6642)  \n",
       "3                  POINT (-73.790219 40.698032)  \n",
       "4  POINT (-73.89213149135563 40.86463266264929)  \n",
       "\n",
       "[5 rows x 21 columns]"
      ]
     },
     "execution_count": 14,
     "metadata": {},
     "output_type": "execute_result"
    }
   ],
   "source": [
    "df.head()"
   ]
  },
  {
   "cell_type": "markdown",
   "metadata": {},
   "source": [
    "#### 3-2. Convert 'statistical_murder_flag' to boolean values\n",
    "\n",
    "This column contains either the string 'Y' or 'N' to describe if the shooting resulted in the victim's death. For the sake of easier analysis, I will change these to boolean values of True and False which Python automatically understands."
   ]
  },
  {
   "cell_type": "code",
   "execution_count": 15,
   "metadata": {},
   "outputs": [
    {
     "name": "stderr",
     "output_type": "stream",
     "text": [
      "/var/folders/c0/0c_b64hn65zc4mh0lkr4wn_00000gn/T/ipykernel_3565/1087760077.py:1: FutureWarning: A value is trying to be set on a copy of a DataFrame or Series through chained assignment using an inplace method.\n",
      "The behavior will change in pandas 3.0. This inplace method will never work because the intermediate object on which we are setting values always behaves as a copy.\n",
      "\n",
      "For example, when doing 'df[col].method(value, inplace=True)', try using 'df.method({col: value}, inplace=True)' or df[col] = df[col].method(value) instead, to perform the operation inplace on the original object.\n",
      "\n",
      "\n",
      "  df['statistical_murder_flag'].replace('Y', True, inplace = True)\n",
      "/var/folders/c0/0c_b64hn65zc4mh0lkr4wn_00000gn/T/ipykernel_3565/1087760077.py:2: FutureWarning: A value is trying to be set on a copy of a DataFrame or Series through chained assignment using an inplace method.\n",
      "The behavior will change in pandas 3.0. This inplace method will never work because the intermediate object on which we are setting values always behaves as a copy.\n",
      "\n",
      "For example, when doing 'df[col].method(value, inplace=True)', try using 'df.method({col: value}, inplace=True)' or df[col] = df[col].method(value) instead, to perform the operation inplace on the original object.\n",
      "\n",
      "\n",
      "  df['statistical_murder_flag'].replace('N', False, inplace = True)\n",
      "/var/folders/c0/0c_b64hn65zc4mh0lkr4wn_00000gn/T/ipykernel_3565/1087760077.py:2: FutureWarning: Downcasting behavior in `replace` is deprecated and will be removed in a future version. To retain the old behavior, explicitly call `result.infer_objects(copy=False)`. To opt-in to the future behavior, set `pd.set_option('future.no_silent_downcasting', True)`\n",
      "  df['statistical_murder_flag'].replace('N', False, inplace = True)\n"
     ]
    }
   ],
   "source": [
    "df['statistical_murder_flag'].replace('Y', True, inplace = True)\n",
    "df['statistical_murder_flag'].replace('N', False, inplace = True)"
   ]
  },
  {
   "cell_type": "markdown",
   "metadata": {},
   "source": [
    "Result:"
   ]
  },
  {
   "cell_type": "code",
   "execution_count": 16,
   "metadata": {},
   "outputs": [
    {
     "data": {
      "text/html": [
       "<div>\n",
       "<style scoped>\n",
       "    .dataframe tbody tr th:only-of-type {\n",
       "        vertical-align: middle;\n",
       "    }\n",
       "\n",
       "    .dataframe tbody tr th {\n",
       "        vertical-align: top;\n",
       "    }\n",
       "\n",
       "    .dataframe thead th {\n",
       "        text-align: right;\n",
       "    }\n",
       "</style>\n",
       "<table border=\"1\" class=\"dataframe\">\n",
       "  <thead>\n",
       "    <tr style=\"text-align: right;\">\n",
       "      <th></th>\n",
       "      <th>incident_key</th>\n",
       "      <th>occur_date</th>\n",
       "      <th>occur_time</th>\n",
       "      <th>boro</th>\n",
       "      <th>loc_of_occur_desc</th>\n",
       "      <th>precinct</th>\n",
       "      <th>jurisdiction_code</th>\n",
       "      <th>loc_classfctn_desc</th>\n",
       "      <th>location_desc</th>\n",
       "      <th>statistical_murder_flag</th>\n",
       "      <th>...</th>\n",
       "      <th>perp_sex</th>\n",
       "      <th>perp_race</th>\n",
       "      <th>vic_age_group</th>\n",
       "      <th>vic_sex</th>\n",
       "      <th>vic_race</th>\n",
       "      <th>x_coord_cd</th>\n",
       "      <th>y_coord_cd</th>\n",
       "      <th>latitude</th>\n",
       "      <th>longitude</th>\n",
       "      <th>new_georeferenced_column</th>\n",
       "    </tr>\n",
       "  </thead>\n",
       "  <tbody>\n",
       "    <tr>\n",
       "      <th>0</th>\n",
       "      <td>283390056</td>\n",
       "      <td>03/07/2024</td>\n",
       "      <td>17:15:00</td>\n",
       "      <td>BROOKLYN</td>\n",
       "      <td>OUTSIDE</td>\n",
       "      <td>73</td>\n",
       "      <td>PATROL</td>\n",
       "      <td>STREET</td>\n",
       "      <td>NaN</td>\n",
       "      <td>False</td>\n",
       "      <td>...</td>\n",
       "      <td>M</td>\n",
       "      <td>BLACK</td>\n",
       "      <td>18-24</td>\n",
       "      <td>M</td>\n",
       "      <td>BLACK</td>\n",
       "      <td>1008245</td>\n",
       "      <td>183796</td>\n",
       "      <td>NaN</td>\n",
       "      <td>NaN</td>\n",
       "      <td>NaN</td>\n",
       "    </tr>\n",
       "    <tr>\n",
       "      <th>1</th>\n",
       "      <td>283404608</td>\n",
       "      <td>03/07/2024</td>\n",
       "      <td>16:14:00</td>\n",
       "      <td>BRONX</td>\n",
       "      <td>OUTSIDE</td>\n",
       "      <td>40</td>\n",
       "      <td>PATROL</td>\n",
       "      <td>STREET</td>\n",
       "      <td>NaN</td>\n",
       "      <td>True</td>\n",
       "      <td>...</td>\n",
       "      <td>M</td>\n",
       "      <td>BLACK</td>\n",
       "      <td>&lt;18</td>\n",
       "      <td>M</td>\n",
       "      <td>BLACK</td>\n",
       "      <td>1005028</td>\n",
       "      <td>234516</td>\n",
       "      <td>NaN</td>\n",
       "      <td>NaN</td>\n",
       "      <td>NaN</td>\n",
       "    </tr>\n",
       "    <tr>\n",
       "      <th>2</th>\n",
       "      <td>281250471</td>\n",
       "      <td>01/27/2024</td>\n",
       "      <td>18:36:00</td>\n",
       "      <td>BROOKLYN</td>\n",
       "      <td>OUTSIDE</td>\n",
       "      <td>75</td>\n",
       "      <td>PATROL</td>\n",
       "      <td>STREET</td>\n",
       "      <td>NaN</td>\n",
       "      <td>False</td>\n",
       "      <td>...</td>\n",
       "      <td>NaN</td>\n",
       "      <td>NaN</td>\n",
       "      <td>25-44</td>\n",
       "      <td>M</td>\n",
       "      <td>BLACK</td>\n",
       "      <td>1015391</td>\n",
       "      <td>181282</td>\n",
       "      <td>40.664200</td>\n",
       "      <td>-73.887750</td>\n",
       "      <td>POINT (-73.88775 40.6642)</td>\n",
       "    </tr>\n",
       "    <tr>\n",
       "      <th>3</th>\n",
       "      <td>283951187</td>\n",
       "      <td>03/18/2024</td>\n",
       "      <td>22:00:00</td>\n",
       "      <td>QUEENS</td>\n",
       "      <td>OUTSIDE</td>\n",
       "      <td>103</td>\n",
       "      <td>PATROL</td>\n",
       "      <td>DWELLING</td>\n",
       "      <td>PVT HOUSE</td>\n",
       "      <td>False</td>\n",
       "      <td>...</td>\n",
       "      <td>NaN</td>\n",
       "      <td>NaN</td>\n",
       "      <td>25-44</td>\n",
       "      <td>M</td>\n",
       "      <td>BLACK</td>\n",
       "      <td>1042419</td>\n",
       "      <td>193657</td>\n",
       "      <td>40.698032</td>\n",
       "      <td>-73.790219</td>\n",
       "      <td>POINT (-73.790219 40.698032)</td>\n",
       "    </tr>\n",
       "    <tr>\n",
       "      <th>4</th>\n",
       "      <td>279799858</td>\n",
       "      <td>01/01/2024</td>\n",
       "      <td>14:57:00</td>\n",
       "      <td>BRONX</td>\n",
       "      <td>OUTSIDE</td>\n",
       "      <td>52</td>\n",
       "      <td>PATROL</td>\n",
       "      <td>STREET</td>\n",
       "      <td>NaN</td>\n",
       "      <td>False</td>\n",
       "      <td>...</td>\n",
       "      <td>M</td>\n",
       "      <td>BLACK HISPANIC</td>\n",
       "      <td>18-24</td>\n",
       "      <td>M</td>\n",
       "      <td>WHITE HISPANIC</td>\n",
       "      <td>1014086</td>\n",
       "      <td>254305</td>\n",
       "      <td>40.864633</td>\n",
       "      <td>-73.892131</td>\n",
       "      <td>POINT (-73.89213149135563 40.86463266264929)</td>\n",
       "    </tr>\n",
       "  </tbody>\n",
       "</table>\n",
       "<p>5 rows × 21 columns</p>\n",
       "</div>"
      ],
      "text/plain": [
       "   incident_key  occur_date occur_time      boro loc_of_occur_desc  precinct  \\\n",
       "0     283390056  03/07/2024   17:15:00  BROOKLYN           OUTSIDE        73   \n",
       "1     283404608  03/07/2024   16:14:00     BRONX           OUTSIDE        40   \n",
       "2     281250471  01/27/2024   18:36:00  BROOKLYN           OUTSIDE        75   \n",
       "3     283951187  03/18/2024   22:00:00    QUEENS           OUTSIDE       103   \n",
       "4     279799858  01/01/2024   14:57:00     BRONX           OUTSIDE        52   \n",
       "\n",
       "  jurisdiction_code loc_classfctn_desc location_desc  statistical_murder_flag  \\\n",
       "0            PATROL             STREET           NaN                    False   \n",
       "1            PATROL             STREET           NaN                     True   \n",
       "2            PATROL             STREET           NaN                    False   \n",
       "3            PATROL           DWELLING     PVT HOUSE                    False   \n",
       "4            PATROL             STREET           NaN                    False   \n",
       "\n",
       "   ... perp_sex       perp_race vic_age_group vic_sex        vic_race  \\\n",
       "0  ...        M           BLACK         18-24       M           BLACK   \n",
       "1  ...        M           BLACK           <18       M           BLACK   \n",
       "2  ...      NaN             NaN         25-44       M           BLACK   \n",
       "3  ...      NaN             NaN         25-44       M           BLACK   \n",
       "4  ...        M  BLACK HISPANIC         18-24       M  WHITE HISPANIC   \n",
       "\n",
       "  x_coord_cd  y_coord_cd   latitude  longitude  \\\n",
       "0    1008245      183796        NaN        NaN   \n",
       "1    1005028      234516        NaN        NaN   \n",
       "2    1015391      181282  40.664200 -73.887750   \n",
       "3    1042419      193657  40.698032 -73.790219   \n",
       "4    1014086      254305  40.864633 -73.892131   \n",
       "\n",
       "                       new_georeferenced_column  \n",
       "0                                           NaN  \n",
       "1                                           NaN  \n",
       "2                     POINT (-73.88775 40.6642)  \n",
       "3                  POINT (-73.790219 40.698032)  \n",
       "4  POINT (-73.89213149135563 40.86463266264929)  \n",
       "\n",
       "[5 rows x 21 columns]"
      ]
     },
     "execution_count": 16,
     "metadata": {},
     "output_type": "execute_result"
    }
   ],
   "source": [
    "df.head()"
   ]
  },
  {
   "cell_type": "markdown",
   "metadata": {},
   "source": [
    "#### 3-3. Convert occur_date column values to Pandas datetime format\n",
    "\n",
    "For the sake of easier data handling, I will convert the listed dates in mm/dd/yyyy format to the default yyyy-mm-dd Pandas datetime format."
   ]
  },
  {
   "cell_type": "code",
   "execution_count": 17,
   "metadata": {},
   "outputs": [],
   "source": [
    "df['occur_date']=pd.to_datetime(df['occur_date'])"
   ]
  },
  {
   "cell_type": "markdown",
   "metadata": {},
   "source": [
    "Result:"
   ]
  },
  {
   "cell_type": "code",
   "execution_count": 18,
   "metadata": {},
   "outputs": [
    {
     "data": {
      "text/html": [
       "<div>\n",
       "<style scoped>\n",
       "    .dataframe tbody tr th:only-of-type {\n",
       "        vertical-align: middle;\n",
       "    }\n",
       "\n",
       "    .dataframe tbody tr th {\n",
       "        vertical-align: top;\n",
       "    }\n",
       "\n",
       "    .dataframe thead th {\n",
       "        text-align: right;\n",
       "    }\n",
       "</style>\n",
       "<table border=\"1\" class=\"dataframe\">\n",
       "  <thead>\n",
       "    <tr style=\"text-align: right;\">\n",
       "      <th></th>\n",
       "      <th>incident_key</th>\n",
       "      <th>occur_date</th>\n",
       "      <th>occur_time</th>\n",
       "      <th>boro</th>\n",
       "      <th>loc_of_occur_desc</th>\n",
       "      <th>precinct</th>\n",
       "      <th>jurisdiction_code</th>\n",
       "      <th>loc_classfctn_desc</th>\n",
       "      <th>location_desc</th>\n",
       "      <th>statistical_murder_flag</th>\n",
       "      <th>...</th>\n",
       "      <th>perp_sex</th>\n",
       "      <th>perp_race</th>\n",
       "      <th>vic_age_group</th>\n",
       "      <th>vic_sex</th>\n",
       "      <th>vic_race</th>\n",
       "      <th>x_coord_cd</th>\n",
       "      <th>y_coord_cd</th>\n",
       "      <th>latitude</th>\n",
       "      <th>longitude</th>\n",
       "      <th>new_georeferenced_column</th>\n",
       "    </tr>\n",
       "  </thead>\n",
       "  <tbody>\n",
       "    <tr>\n",
       "      <th>0</th>\n",
       "      <td>283390056</td>\n",
       "      <td>2024-03-07</td>\n",
       "      <td>17:15:00</td>\n",
       "      <td>BROOKLYN</td>\n",
       "      <td>OUTSIDE</td>\n",
       "      <td>73</td>\n",
       "      <td>PATROL</td>\n",
       "      <td>STREET</td>\n",
       "      <td>NaN</td>\n",
       "      <td>False</td>\n",
       "      <td>...</td>\n",
       "      <td>M</td>\n",
       "      <td>BLACK</td>\n",
       "      <td>18-24</td>\n",
       "      <td>M</td>\n",
       "      <td>BLACK</td>\n",
       "      <td>1008245</td>\n",
       "      <td>183796</td>\n",
       "      <td>NaN</td>\n",
       "      <td>NaN</td>\n",
       "      <td>NaN</td>\n",
       "    </tr>\n",
       "    <tr>\n",
       "      <th>1</th>\n",
       "      <td>283404608</td>\n",
       "      <td>2024-03-07</td>\n",
       "      <td>16:14:00</td>\n",
       "      <td>BRONX</td>\n",
       "      <td>OUTSIDE</td>\n",
       "      <td>40</td>\n",
       "      <td>PATROL</td>\n",
       "      <td>STREET</td>\n",
       "      <td>NaN</td>\n",
       "      <td>True</td>\n",
       "      <td>...</td>\n",
       "      <td>M</td>\n",
       "      <td>BLACK</td>\n",
       "      <td>&lt;18</td>\n",
       "      <td>M</td>\n",
       "      <td>BLACK</td>\n",
       "      <td>1005028</td>\n",
       "      <td>234516</td>\n",
       "      <td>NaN</td>\n",
       "      <td>NaN</td>\n",
       "      <td>NaN</td>\n",
       "    </tr>\n",
       "    <tr>\n",
       "      <th>2</th>\n",
       "      <td>281250471</td>\n",
       "      <td>2024-01-27</td>\n",
       "      <td>18:36:00</td>\n",
       "      <td>BROOKLYN</td>\n",
       "      <td>OUTSIDE</td>\n",
       "      <td>75</td>\n",
       "      <td>PATROL</td>\n",
       "      <td>STREET</td>\n",
       "      <td>NaN</td>\n",
       "      <td>False</td>\n",
       "      <td>...</td>\n",
       "      <td>NaN</td>\n",
       "      <td>NaN</td>\n",
       "      <td>25-44</td>\n",
       "      <td>M</td>\n",
       "      <td>BLACK</td>\n",
       "      <td>1015391</td>\n",
       "      <td>181282</td>\n",
       "      <td>40.664200</td>\n",
       "      <td>-73.887750</td>\n",
       "      <td>POINT (-73.88775 40.6642)</td>\n",
       "    </tr>\n",
       "    <tr>\n",
       "      <th>3</th>\n",
       "      <td>283951187</td>\n",
       "      <td>2024-03-18</td>\n",
       "      <td>22:00:00</td>\n",
       "      <td>QUEENS</td>\n",
       "      <td>OUTSIDE</td>\n",
       "      <td>103</td>\n",
       "      <td>PATROL</td>\n",
       "      <td>DWELLING</td>\n",
       "      <td>PVT HOUSE</td>\n",
       "      <td>False</td>\n",
       "      <td>...</td>\n",
       "      <td>NaN</td>\n",
       "      <td>NaN</td>\n",
       "      <td>25-44</td>\n",
       "      <td>M</td>\n",
       "      <td>BLACK</td>\n",
       "      <td>1042419</td>\n",
       "      <td>193657</td>\n",
       "      <td>40.698032</td>\n",
       "      <td>-73.790219</td>\n",
       "      <td>POINT (-73.790219 40.698032)</td>\n",
       "    </tr>\n",
       "    <tr>\n",
       "      <th>4</th>\n",
       "      <td>279799858</td>\n",
       "      <td>2024-01-01</td>\n",
       "      <td>14:57:00</td>\n",
       "      <td>BRONX</td>\n",
       "      <td>OUTSIDE</td>\n",
       "      <td>52</td>\n",
       "      <td>PATROL</td>\n",
       "      <td>STREET</td>\n",
       "      <td>NaN</td>\n",
       "      <td>False</td>\n",
       "      <td>...</td>\n",
       "      <td>M</td>\n",
       "      <td>BLACK HISPANIC</td>\n",
       "      <td>18-24</td>\n",
       "      <td>M</td>\n",
       "      <td>WHITE HISPANIC</td>\n",
       "      <td>1014086</td>\n",
       "      <td>254305</td>\n",
       "      <td>40.864633</td>\n",
       "      <td>-73.892131</td>\n",
       "      <td>POINT (-73.89213149135563 40.86463266264929)</td>\n",
       "    </tr>\n",
       "  </tbody>\n",
       "</table>\n",
       "<p>5 rows × 21 columns</p>\n",
       "</div>"
      ],
      "text/plain": [
       "   incident_key occur_date occur_time      boro loc_of_occur_desc  precinct  \\\n",
       "0     283390056 2024-03-07   17:15:00  BROOKLYN           OUTSIDE        73   \n",
       "1     283404608 2024-03-07   16:14:00     BRONX           OUTSIDE        40   \n",
       "2     281250471 2024-01-27   18:36:00  BROOKLYN           OUTSIDE        75   \n",
       "3     283951187 2024-03-18   22:00:00    QUEENS           OUTSIDE       103   \n",
       "4     279799858 2024-01-01   14:57:00     BRONX           OUTSIDE        52   \n",
       "\n",
       "  jurisdiction_code loc_classfctn_desc location_desc  statistical_murder_flag  \\\n",
       "0            PATROL             STREET           NaN                    False   \n",
       "1            PATROL             STREET           NaN                     True   \n",
       "2            PATROL             STREET           NaN                    False   \n",
       "3            PATROL           DWELLING     PVT HOUSE                    False   \n",
       "4            PATROL             STREET           NaN                    False   \n",
       "\n",
       "   ... perp_sex       perp_race vic_age_group vic_sex        vic_race  \\\n",
       "0  ...        M           BLACK         18-24       M           BLACK   \n",
       "1  ...        M           BLACK           <18       M           BLACK   \n",
       "2  ...      NaN             NaN         25-44       M           BLACK   \n",
       "3  ...      NaN             NaN         25-44       M           BLACK   \n",
       "4  ...        M  BLACK HISPANIC         18-24       M  WHITE HISPANIC   \n",
       "\n",
       "  x_coord_cd  y_coord_cd   latitude  longitude  \\\n",
       "0    1008245      183796        NaN        NaN   \n",
       "1    1005028      234516        NaN        NaN   \n",
       "2    1015391      181282  40.664200 -73.887750   \n",
       "3    1042419      193657  40.698032 -73.790219   \n",
       "4    1014086      254305  40.864633 -73.892131   \n",
       "\n",
       "                       new_georeferenced_column  \n",
       "0                                           NaN  \n",
       "1                                           NaN  \n",
       "2                     POINT (-73.88775 40.6642)  \n",
       "3                  POINT (-73.790219 40.698032)  \n",
       "4  POINT (-73.89213149135563 40.86463266264929)  \n",
       "\n",
       "[5 rows x 21 columns]"
      ]
     },
     "execution_count": 18,
     "metadata": {},
     "output_type": "execute_result"
    }
   ],
   "source": [
    "df.head()"
   ]
  },
  {
   "cell_type": "markdown",
   "metadata": {},
   "source": [
    "#### 3-4. Keep/discard columns.\n",
    "\n",
    "Not all of the columns are relevant to analysis; for example, timestamp and location coordinates are coded values that represent a location but do not mean much as numbers themselves(ex: averaging the 'values' of coordinates will not yield a meaningful value). However, a reader may find those information useful when they are browsing individual data points in/out of analysis, so I will keep them - especially as this is not a dataset with tens of thousands of rows that need memory optimization."
   ]
  },
  {
   "cell_type": "markdown",
   "metadata": {},
   "source": [
    "## Data analysis\n",
    "Place your **data analysis** code and documentation within this section.\n",
    "- Perform at least 5 different statistical or other analyses of different aspects of the data.\n",
    "    - Your analyses must be specific and relevant to your chosen data set and show interesting aspects of it.\n",
    "    - Include at least one analysis that includes grouping rows by a shared attribute and performing some kind of statistical analysis on each group.\n",
    "    - Sort the data in at least 1 of your analyses, but sort on its own does not constitute an analysis on its own.\n",
    "- Keep each of your Code cells short and focused on a single task.\n",
    "- Include a Markdown cell above each Code cell that describes what task the code within the Code cell is performing.\n",
    "- Make as many code cells as you need to complete the analysis - a few have been created for you to start with."
   ]
  },
  {
   "cell_type": "markdown",
   "metadata": {},
   "source": [
    "### 1. View number of shooting incidents by borough"
   ]
  },
  {
   "cell_type": "code",
   "execution_count": 19,
   "metadata": {},
   "outputs": [
    {
     "data": {
      "text/plain": [
       "boro\n",
       "BRONX            104\n",
       "BROOKLYN          64\n",
       "MANHATTAN         33\n",
       "QUEENS            26\n",
       "STATEN ISLAND      5\n",
       "dtype: int64"
      ]
     },
     "execution_count": 19,
     "metadata": {},
     "output_type": "execute_result"
    }
   ],
   "source": [
    "df.groupby('boro').size()"
   ]
  },
  {
   "cell_type": "markdown",
   "metadata": {},
   "source": [
    "#### 1-1. Analyze each borough by the location where the shooting incidents happened"
   ]
  },
  {
   "cell_type": "code",
   "execution_count": 20,
   "metadata": {},
   "outputs": [
    {
     "data": {
      "text/plain": [
       "boro           location_desc            \n",
       "BRONX          BAR/NIGHT CLUB                1\n",
       "               COMMERCIAL BLDG               1\n",
       "               GROCERY/BODEGA                5\n",
       "               HOTEL/MOTEL                   1\n",
       "               MULTI DWELL - APT BUILD      13\n",
       "               MULTI DWELL - PUBLIC HOUS    10\n",
       "               SMALL MERCHANT                2\n",
       "BROOKLYN       CHAIN STORE                   1\n",
       "               GROCERY/BODEGA                3\n",
       "               HOSPITAL                      1\n",
       "               MULTI DWELL - APT BUILD       9\n",
       "               MULTI DWELL - PUBLIC HOUS    10\n",
       "               PVT HOUSE                     1\n",
       "MANHATTAN      BAR/NIGHT CLUB                1\n",
       "               MULTI DWELL - APT BUILD       2\n",
       "               MULTI DWELL - PUBLIC HOUS     3\n",
       "               SOCIAL CLUB/POLICY LOCATI     1\n",
       "QUEENS         BAR/NIGHT CLUB                3\n",
       "               GAS STATION                   2\n",
       "               GROCERY/BODEGA                2\n",
       "               MULTI DWELL - PUBLIC HOUS     4\n",
       "               PVT HOUSE                     3\n",
       "STATEN ISLAND  MULTI DWELL - APT BUILD       1\n",
       "               PVT HOUSE                     2\n",
       "dtype: int64"
      ]
     },
     "execution_count": 20,
     "metadata": {},
     "output_type": "execute_result"
    }
   ],
   "source": [
    "df.groupby(['boro','location_desc']).size()"
   ]
  },
  {
   "cell_type": "markdown",
   "metadata": {},
   "source": [
    "### 2. Some analysis about the Bronx...\n",
    "\n",
    "The Bronx has the highest number of shooting incidents. Let's do some further analysis about the Bronx."
   ]
  },
  {
   "cell_type": "markdown",
   "metadata": {},
   "source": [
    "#### 2-1. View perpetrators' age groups in shootings in the Bronx"
   ]
  },
  {
   "cell_type": "code",
   "execution_count": 21,
   "metadata": {},
   "outputs": [
    {
     "data": {
      "text/plain": [
       "perp_age_group\n",
       "18-24    11\n",
       "25-44    33\n",
       "45-64     4\n",
       "<18      16\n",
       "dtype: int64"
      ]
     },
     "execution_count": 21,
     "metadata": {},
     "output_type": "execute_result"
    }
   ],
   "source": [
    "bronxdf = df[df['boro'] == 'BRONX'] # Create a separate dataframe containing data only from the Bronx\n",
    "bronxdf.groupby('perp_age_group').size()"
   ]
  },
  {
   "cell_type": "markdown",
   "metadata": {},
   "source": [
    "#### 2-2. View victims' age groups in shootings in the Bronx"
   ]
  },
  {
   "cell_type": "code",
   "execution_count": 22,
   "metadata": {},
   "outputs": [
    {
     "data": {
      "text/plain": [
       "vic_age_group\n",
       "18-24    28\n",
       "25-44    46\n",
       "45-64     9\n",
       "65+       2\n",
       "<18      19\n",
       "dtype: int64"
      ]
     },
     "execution_count": 22,
     "metadata": {},
     "output_type": "execute_result"
    }
   ],
   "source": [
    "bronxdf.groupby('vic_age_group').size()"
   ]
  },
  {
   "cell_type": "markdown",
   "metadata": {},
   "source": [
    "### 3. View number of shooting incidents by setting"
   ]
  },
  {
   "cell_type": "code",
   "execution_count": 23,
   "metadata": {},
   "outputs": [
    {
     "data": {
      "text/plain": [
       "loc_classfctn_desc\n",
       "COMMERCIAL      21\n",
       "DWELLING        30\n",
       "HOUSING         27\n",
       "OTHER            2\n",
       "PARKING LOT      1\n",
       "STREET         136\n",
       "TRANSIT         14\n",
       "dtype: int64"
      ]
     },
     "execution_count": 23,
     "metadata": {},
     "output_type": "execute_result"
    }
   ],
   "source": [
    "df.groupby('loc_classfctn_desc').size()"
   ]
  },
  {
   "cell_type": "markdown",
   "metadata": {},
   "source": [
    "### 4. Some analysis about street shootings...\n",
    "\n",
    "Seems like most shooting incidents are happening on the streets. Let's do some analysis."
   ]
  },
  {
   "cell_type": "markdown",
   "metadata": {},
   "source": [
    "#### 4-1. Street shootings by borough"
   ]
  },
  {
   "cell_type": "code",
   "execution_count": 24,
   "metadata": {},
   "outputs": [
    {
     "data": {
      "text/plain": [
       "boro\n",
       "BRONX            59\n",
       "BROOKLYN         35\n",
       "MANHATTAN        24\n",
       "QUEENS           15\n",
       "STATEN ISLAND     3\n",
       "dtype: int64"
      ]
     },
     "execution_count": 24,
     "metadata": {},
     "output_type": "execute_result"
    }
   ],
   "source": [
    "streetdf = df[df['loc_classfctn_desc'] == 'STREET'] # Create a separate dataframe containing data only about shooting incidents on the streets\n",
    "streetdf.groupby('boro').size()"
   ]
  },
  {
   "cell_type": "markdown",
   "metadata": {},
   "source": [
    "#### 4-2. Percentages of street shootings in each borough\n",
    "\n",
    "The order of boroughs from most to least shooting incidents seems to be consistent with Analysis 1 where the order was the Bronx-Brooklyn-Manhattan-Queens-Staten Island, but it doesn't tell us much if there is any difference. Let's take a look at the percentage of shooting incidents on the streets relative to all shooting incidents by borough."
   ]
  },
  {
   "cell_type": "code",
   "execution_count": 25,
   "metadata": {},
   "outputs": [
    {
     "data": {
      "text/html": [
       "<div>\n",
       "<style scoped>\n",
       "    .dataframe tbody tr th:only-of-type {\n",
       "        vertical-align: middle;\n",
       "    }\n",
       "\n",
       "    .dataframe tbody tr th {\n",
       "        vertical-align: top;\n",
       "    }\n",
       "\n",
       "    .dataframe thead th {\n",
       "        text-align: right;\n",
       "    }\n",
       "</style>\n",
       "<table border=\"1\" class=\"dataframe\">\n",
       "  <thead>\n",
       "    <tr style=\"text-align: right;\">\n",
       "      <th></th>\n",
       "      <th>boro</th>\n",
       "      <th>percentage</th>\n",
       "    </tr>\n",
       "  </thead>\n",
       "  <tbody>\n",
       "    <tr>\n",
       "      <th>2</th>\n",
       "      <td>MANHATTAN</td>\n",
       "      <td>72.727273</td>\n",
       "    </tr>\n",
       "    <tr>\n",
       "      <th>4</th>\n",
       "      <td>STATEN ISLAND</td>\n",
       "      <td>60.000000</td>\n",
       "    </tr>\n",
       "    <tr>\n",
       "      <th>3</th>\n",
       "      <td>QUEENS</td>\n",
       "      <td>57.692308</td>\n",
       "    </tr>\n",
       "    <tr>\n",
       "      <th>0</th>\n",
       "      <td>BRONX</td>\n",
       "      <td>56.730769</td>\n",
       "    </tr>\n",
       "    <tr>\n",
       "      <th>1</th>\n",
       "      <td>BROOKLYN</td>\n",
       "      <td>54.687500</td>\n",
       "    </tr>\n",
       "  </tbody>\n",
       "</table>\n",
       "</div>"
      ],
      "text/plain": [
       "            boro  percentage\n",
       "2      MANHATTAN   72.727273\n",
       "4  STATEN ISLAND   60.000000\n",
       "3         QUEENS   57.692308\n",
       "0          BRONX   56.730769\n",
       "1       BROOKLYN   54.687500"
      ]
     },
     "execution_count": 25,
     "metadata": {},
     "output_type": "execute_result"
    }
   ],
   "source": [
    "bystreetboro = streetdf.groupby('boro').size() # Separate dataframe about street shootings in each borough\n",
    "byboro = df.groupby('boro').size() # Separate dataframe about shooting incident counts in each borough\n",
    "\n",
    "percseries = (bystreetboro/byboro) * 100 # New Pandas Series containing street shooting percentage of each borough\n",
    "percdf = percseries.to_frame().reset_index() # Turn Series into Dataframe\n",
    "percdf = percdf.rename(columns= {0: 'percentage'})\n",
    "percdf.sort_values(by='percentage', ascending=False) # Sort by descending order of street shooting percentage."
   ]
  },
  {
   "cell_type": "markdown",
   "metadata": {},
   "source": [
    "It's interesting to see that while Manhattan ranks third in the overall number of shooting incidents, about 73% of those seem to be happening on the streets, which is the highest percentage among all five boroughs."
   ]
  },
  {
   "cell_type": "markdown",
   "metadata": {},
   "source": [
    "### 5. View number of fatal shootings"
   ]
  },
  {
   "cell_type": "code",
   "execution_count": 26,
   "metadata": {},
   "outputs": [
    {
     "data": {
      "text/plain": [
       "statistical_murder_flag\n",
       "False    179\n",
       "True      53\n",
       "dtype: int64"
      ]
     },
     "execution_count": 26,
     "metadata": {},
     "output_type": "execute_result"
    }
   ],
   "source": [
    "df.groupby('statistical_murder_flag').size()"
   ]
  },
  {
   "cell_type": "markdown",
   "metadata": {},
   "source": [
    "#### 5-1. Percentage of fatal shootings among all incidents"
   ]
  },
  {
   "cell_type": "code",
   "execution_count": 27,
   "metadata": {},
   "outputs": [
    {
     "data": {
      "text/plain": [
       "statistical_murder_flag\n",
       "False    77.155172\n",
       "True     22.844828\n",
       "Name: proportion, dtype: float64"
      ]
     },
     "execution_count": 27,
     "metadata": {},
     "output_type": "execute_result"
    }
   ],
   "source": [
    "df['statistical_murder_flag'].value_counts(normalize=True).mul(100)"
   ]
  },
  {
   "cell_type": "markdown",
   "metadata": {},
   "source": [
    "Seems like about 23% of all shooting incidents in 2024 that happened in NYC on record resulted in fatality."
   ]
  },
  {
   "cell_type": "markdown",
   "metadata": {},
   "source": [
    "## Data visualization\n",
    "In this section, you will create a few **visualizations** that show some of the insights you have gathered from this data.\n",
    "- Create at least 5 different visualizations, where each visualization shows different insights into the data.\n",
    "- Use at least 3 different visualization types (e.g. bar charts, line charts, stacked area charts, pie charts, etc)\n",
    "- Create a Markdown cell and a Code cell for each, where you explain and show the visualizations, respectively.\n",
    "- Create as many additional cells as you need to prepare the data for the visualizations."
   ]
  },
  {
   "cell_type": "markdown",
   "metadata": {},
   "source": [
    "### 1. Pie chart of shooting incident location distribution among the five boroughs"
   ]
  },
  {
   "cell_type": "code",
   "execution_count": 28,
   "metadata": {},
   "outputs": [
    {
     "data": {
      "text/plain": [
       "<AxesSubplot:>"
      ]
     },
     "execution_count": 28,
     "metadata": {},
     "output_type": "execute_result"
    },
    {
     "data": {
      "image/png": "[encoded data removed]",
      "text/plain": [
       "<Figure size 640x480 with 1 Axes>"
      ]
     },
     "metadata": {},
     "output_type": "display_data"
    }
   ],
   "source": [
    "df.groupby(['boro']).size().plot(kind='pie')"
   ]
  },
  {
   "cell_type": "markdown",
   "metadata": {},
   "source": [
    "### 2. Pie Chart of shooting incident by location classification"
   ]
  },
  {
   "cell_type": "code",
   "execution_count": 29,
   "metadata": {},
   "outputs": [
    {
     "data": {
      "text/plain": [
       "<AxesSubplot:>"
      ]
     },
     "execution_count": 29,
     "metadata": {},
     "output_type": "execute_result"
    },
    {
     "data": {
      "image/png": "[encoded data removed]",
      "text/plain": [
       "<Figure size 640x480 with 1 Axes>"
      ]
     },
     "metadata": {},
     "output_type": "display_data"
    }
   ],
   "source": [
    "df.groupby(['loc_classfctn_desc']).size().plot(kind='pie')"
   ]
  },
  {
   "cell_type": "markdown",
   "metadata": {
    "tags": []
   },
   "source": [
    "### 3. Bar graph of perpetrators' age group in the Bronx"
   ]
  },
  {
   "cell_type": "markdown",
   "metadata": {},
   "source": [
    "#### 3-1. Fix some organizational issue:\n",
    "\n",
    "The column 'perp_age_group' contains instances of the value '<18', which represents the youngest age group on record. Since '<' is a special character, when put into a plot, matplotlib will push the '<18' age group bar all the way to the right, which is not very intuitive. In order to reorder the bars, I created a new dataframe to manually reorder the rows before plotting."
   ]
  },
  {
   "cell_type": "code",
   "execution_count": 30,
   "metadata": {},
   "outputs": [],
   "source": [
    "bronxageseries = bronxdf.groupby('perp_age_group').size()\n",
    "bronxagedf = bronxageseries.to_frame().reset_index()\n",
    "bronxagedf = bronxagedf.rename(columns= {0: 'count'})\n",
    "bronxageorderdf = bronxagedf.reindex([3,0,1,2]) # Reorder by index, with '<18' coming first"
   ]
  },
  {
   "cell_type": "markdown",
   "metadata": {},
   "source": [
    "#### 3-2. Plot graph!"
   ]
  },
  {
   "cell_type": "code",
   "execution_count": 31,
   "metadata": {},
   "outputs": [
    {
     "data": {
      "text/plain": [
       "<AxesSubplot:xlabel='perp_age_group'>"
      ]
     },
     "execution_count": 31,
     "metadata": {},
     "output_type": "execute_result"
    },
    {
     "data": {
      "image/png": "[encoded data removed]",
      "text/plain": [
       "<Figure size 640x480 with 1 Axes>"
      ]
     },
     "metadata": {},
     "output_type": "display_data"
    }
   ],
   "source": [
    "bronxageorderdf.plot.bar(x = 'perp_age_group',y = 'count') "
   ]
  },
  {
   "cell_type": "markdown",
   "metadata": {},
   "source": [
    "### 4. Line graph of monthly cumulative shooting incident counts"
   ]
  },
  {
   "cell_type": "code",
   "execution_count": 32,
   "metadata": {},
   "outputs": [
    {
     "data": {
      "text/plain": [
       "<AxesSubplot:xlabel='occur_date'>"
      ]
     },
     "execution_count": 32,
     "metadata": {},
     "output_type": "execute_result"
    },
    {
     "data": {
      "image/png": "[encoded data removed]",
      "text/plain": [
       "<Figure size 640x480 with 1 Axes>"
      ]
     },
     "metadata": {},
     "output_type": "display_data"
    }
   ],
   "source": [
    "df.groupby('occur_date').size().cumsum().plot(x='occur_date')"
   ]
  },
  {
   "cell_type": "markdown",
   "metadata": {},
   "source": [
    "### 5. Bar graph with perpetrator and victim race"
   ]
  },
  {
   "cell_type": "markdown",
   "metadata": {},
   "source": [
    "#### 5-1. Create dataframe combining perpetrator and victim race"
   ]
  },
  {
   "cell_type": "code",
   "execution_count": 33,
   "metadata": {},
   "outputs": [
    {
     "data": {
      "text/html": [
       "<div>\n",
       "<style scoped>\n",
       "    .dataframe tbody tr th:only-of-type {\n",
       "        vertical-align: middle;\n",
       "    }\n",
       "\n",
       "    .dataframe tbody tr th {\n",
       "        vertical-align: top;\n",
       "    }\n",
       "\n",
       "    .dataframe thead th {\n",
       "        text-align: right;\n",
       "    }\n",
       "</style>\n",
       "<table border=\"1\" class=\"dataframe\">\n",
       "  <thead>\n",
       "    <tr style=\"text-align: right;\">\n",
       "      <th></th>\n",
       "      <th>perp_count</th>\n",
       "      <th>vic_count</th>\n",
       "    </tr>\n",
       "    <tr>\n",
       "      <th>race</th>\n",
       "      <th></th>\n",
       "      <th></th>\n",
       "    </tr>\n",
       "  </thead>\n",
       "  <tbody>\n",
       "    <tr>\n",
       "      <th>AMERICAN INDIAN/ALASKAN NATIVE</th>\n",
       "      <td>NaN</td>\n",
       "      <td>1</td>\n",
       "    </tr>\n",
       "    <tr>\n",
       "      <th>ASIAN / PACIFIC ISLANDER</th>\n",
       "      <td>4.0</td>\n",
       "      <td>6</td>\n",
       "    </tr>\n",
       "    <tr>\n",
       "      <th>BLACK</th>\n",
       "      <td>63.0</td>\n",
       "      <td>147</td>\n",
       "    </tr>\n",
       "    <tr>\n",
       "      <th>BLACK HISPANIC</th>\n",
       "      <td>33.0</td>\n",
       "      <td>29</td>\n",
       "    </tr>\n",
       "    <tr>\n",
       "      <th>WHITE</th>\n",
       "      <td>1.0</td>\n",
       "      <td>3</td>\n",
       "    </tr>\n",
       "    <tr>\n",
       "      <th>WHITE HISPANIC</th>\n",
       "      <td>32.0</td>\n",
       "      <td>46</td>\n",
       "    </tr>\n",
       "  </tbody>\n",
       "</table>\n",
       "</div>"
      ],
      "text/plain": [
       "                                perp_count  vic_count\n",
       "race                                                 \n",
       "AMERICAN INDIAN/ALASKAN NATIVE         NaN          1\n",
       "ASIAN / PACIFIC ISLANDER               4.0          6\n",
       "BLACK                                 63.0        147\n",
       "BLACK HISPANIC                        33.0         29\n",
       "WHITE                                  1.0          3\n",
       "WHITE HISPANIC                        32.0         46"
      ]
     },
     "execution_count": 33,
     "metadata": {},
     "output_type": "execute_result"
    }
   ],
   "source": [
    "perpraceseries = df.groupby(['perp_race']).size()\n",
    "vicraceseries = df.groupby(['vic_race']).size()\n",
    "\n",
    "# Create new dataframe with both perpetrator and victim races\n",
    "racedf = pd.DataFrame({\n",
    "    'perp_count':perpraceseries,\n",
    "    'vic_count':vicraceseries})\n",
    "\n",
    "racedf = racedf.rename_axis('race')\n",
    "racedf"
   ]
  },
  {
   "cell_type": "markdown",
   "metadata": {},
   "source": [
    "#### 5-2. Plot graph!"
   ]
  },
  {
   "cell_type": "code",
   "execution_count": 34,
   "metadata": {},
   "outputs": [
    {
     "data": {
      "text/plain": [
       "<AxesSubplot:xlabel='race'>"
      ]
     },
     "execution_count": 34,
     "metadata": {},
     "output_type": "execute_result"
    },
    {
     "data": {
      "image/png": "[encoded data removed]",
      "text/plain": [
       "<Figure size 640x480 with 1 Axes>"
      ]
     },
     "metadata": {},
     "output_type": "display_data"
    }
   ],
   "source": [
    "racedf.plot.bar()"
   ]
  },
  {
   "cell_type": "markdown",
   "metadata": {},
   "source": [
    "It's worth noting that pieces of information on a considerable portion of the perpetrators are missing, while documentations about the victims are quite consistent."
   ]
  }
 ],
 "metadata": {
  "kernelspec": {
   "display_name": "Python 3 (ipykernel)",
   "language": "python",
   "name": "python3"
  },
  "language_info": {
   "codemirror_mode": {
    "name": "ipython",
    "version": 3
   },
   "file_extension": ".py",
   "mimetype": "text/x-python",
   "name": "python",
   "nbconvert_exporter": "python",
   "pygments_lexer": "ipython3",
   "version": "3.9.13"
  }
 },
 "nbformat": 4,
 "nbformat_minor": 4
}
